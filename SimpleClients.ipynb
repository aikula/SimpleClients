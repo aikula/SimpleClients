{
 "cells": [
  {
   "cell_type": "markdown",
   "id": "b0034dbe-eb8f-4e82-885c-c79bc312bcff",
   "metadata": {
    "tags": []
   },
   "source": [
    "# Анализ клиентской базы\n",
    "\n",
    "Перед нами стоит задача провести анализ клиентской базы и выявить наиболее ценных и перспективных клиентов и клиентские сегменты. \n",
    "\n",
    "Пусть вас не пугает много кода. Строчки и занчения которые надо изменять я укажу через комментарии `#!!! надо изменить`. Также важно, чтобы структура вашего файла соответстовала оригинальному. \n",
    "\n",
    "## Загрузим библиотеки"
   ]
  },
  {
   "cell_type": "code",
   "execution_count": null,
   "id": "44bef162-5da1-400c-9a14-a76026dfe121",
   "metadata": {
    "tags": []
   },
   "outputs": [],
   "source": [
    "import pandas as pd\n",
    "import numpy as np\n",
    "import matplotlib.pyplot as plt\n",
    "import seaborn as sns\n",
    "\n",
    "pd.options.display.float_format = '{:,.2f}'.format"
   ]
  },
  {
   "cell_type": "markdown",
   "id": "344a438b-533a-414c-8689-7121e0d723ec",
   "metadata": {},
   "source": [
    "## Прочитаем данные из файла\n",
    "\n",
    "Желательно чтобы в файле была всего одна вкладка. Структура должна соотчетствовать. \n",
    "\n",
    "Поля:\n",
    "- Name имя клиента\n",
    "- Date дата покупки\n",
    "- Revenue - выручка\n",
    "- Cost - себестоимость"
   ]
  },
  {
   "cell_type": "code",
   "execution_count": null,
   "id": "f85091e1-8989-4841-bcdf-d370b8e2f42a",
   "metadata": {},
   "outputs": [],
   "source": [
    "df=pd.read_excel('SimpleBase.xlsx') # !!! измените название файла на свое\n",
    "df.sample(3, random_state=46) #три случайные строки"
   ]
  },
  {
   "cell_type": "code",
   "execution_count": null,
   "id": "ad02f779-0171-4441-8f93-9dbeffc2b4e2",
   "metadata": {},
   "outputs": [],
   "source": [
    "df.loc[1, 'Date']"
   ]
  },
  {
   "cell_type": "code",
   "execution_count": null,
   "id": "9372affb-8ac4-4c0b-92e4-b5bf52ef1b6c",
   "metadata": {},
   "outputs": [],
   "source": [
    "# добавим поле с прибылью от продажи\n",
    "df['Profit']=df['Revenue']-df['Cost']\n",
    "df['ProfitPct']=df['Profit']/df['Revenue'] #рентабельность"
   ]
  },
  {
   "cell_type": "code",
   "execution_count": null,
   "id": "fbb38975-b80c-4c26-b6ac-84cab0fd760a",
   "metadata": {},
   "outputs": [],
   "source": [
    "df.describe()"
   ]
  },
  {
   "cell_type": "code",
   "execution_count": null,
   "id": "0bb7c028-c474-4a11-9d28-e30f3fca1dc7",
   "metadata": {},
   "outputs": [],
   "source": [
    "df.hist(figsize=(18,10), bins=100);"
   ]
  },
  {
   "cell_type": "code",
   "execution_count": null,
   "id": "64332934-efa0-4491-818f-ff9c1dd2824f",
   "metadata": {},
   "outputs": [],
   "source": [
    "df['Revenue'].hist(figsize=(18,4), bins=100);"
   ]
  },
  {
   "cell_type": "code",
   "execution_count": null,
   "id": "c3496e6b-2327-437d-aa17-aa36c2381269",
   "metadata": {},
   "outputs": [],
   "source": [
    "df[df['Revenue']>200000] #!!! изменить значение в фильтре согласно Вашим параметрам"
   ]
  },
  {
   "cell_type": "code",
   "execution_count": null,
   "id": "3869b79d-326c-46f9-8156-162bfdebd062",
   "metadata": {},
   "outputs": [],
   "source": [
    "df[df['Revenue']<30000]['Revenue'].hist(figsize=(18,4), bins=100); # !!!ихменить значение в фильтре согласно вашим параметрам"
   ]
  },
  {
   "cell_type": "markdown",
   "id": "66d5d56f-0132-4558-b240-c92a3d5c5b81",
   "metadata": {},
   "source": [
    "## Сводные данные по клиентам\n",
    "\n",
    "Ниже данные из журнала покупок преобразуем в сводные данные. \n",
    "\n",
    "Выполняем группировку.\n",
    "\n",
    "`Total_sale` - общее количество покупок клиента за все время."
   ]
  },
  {
   "cell_type": "code",
   "execution_count": null,
   "id": "1d1cad13-2c0b-413f-89d6-52d386d55350",
   "metadata": {},
   "outputs": [],
   "source": [
    "df_clients=df.groupby('Name').agg({'Revenue':'sum', 'Profit':'sum', 'Date':'count'}).reset_index()\n",
    "df_clients.rename(columns={'Date':'Total_sale'}, inplace=True) #переименуем столбец\n",
    "df_clients.sample(3)"
   ]
  },
  {
   "cell_type": "code",
   "execution_count": null,
   "id": "d42a54a9-65ec-4e02-ac26-3f7b7d8c2654",
   "metadata": {},
   "outputs": [],
   "source": [
    "df_clients.describe()"
   ]
  },
  {
   "cell_type": "code",
   "execution_count": null,
   "id": "904b91d5-50fa-4925-9ac7-cf19dac97f8e",
   "metadata": {},
   "outputs": [],
   "source": [
    "df_clients[df_clients['Revenue']>3000000] #!!! изменяйте значение фильтра"
   ]
  },
  {
   "cell_type": "code",
   "execution_count": null,
   "id": "ad4af6f0-5537-4072-a115-23e19cf9d14e",
   "metadata": {},
   "outputs": [],
   "source": [
    "df_clients[df_clients['Total_sale']>300] #!!! изменяйте значение фильтра"
   ]
  },
  {
   "cell_type": "code",
   "execution_count": null,
   "id": "83989820-80b3-4785-86fa-ba3be3782112",
   "metadata": {},
   "outputs": [],
   "source": [
    "df_clients[(df_clients['Revenue']<500000) &\n",
    "          (df_clients['Profit']<300000) &\n",
    "          (df_clients['Total_sale']<150)].hist(figsize=(18,6), bins=50); #!!! изменяйте значение фильтра"
   ]
  },
  {
   "cell_type": "markdown",
   "id": "1c9e040c-f16d-484a-8b9b-62903808f666",
   "metadata": {},
   "source": [
    "## Коэффициент удержания клиентов\n",
    "\n",
    "Показывает какой процент клиентов мы теряем по годам.\n",
    "\n",
    "Подготовим данные.\n",
    "\n",
    "- 'start_date' первая покупка, \n",
    "- 'last_date' последняя покупка,\n",
    "- 'start_year' первый год,\n",
    "- 'last_year' последний год"
   ]
  },
  {
   "cell_type": "code",
   "execution_count": null,
   "id": "068006a4-a54e-4393-a95c-8d8cfa4fa920",
   "metadata": {},
   "outputs": [],
   "source": [
    "df_t=df.groupby('Name').agg({'Date':['min', 'max']}).reset_index()\n",
    "df_t.columns=['Name', 'start_date', 'last_date']\n",
    "\n",
    "if 'start_date' in df_clients.columns:\n",
    "    df_clients.drop(columns=['start_date', 'last_date'], inplace=True)\n",
    "\n",
    "df_clients=pd.merge(df_clients, df_t, on='Name')\n",
    "\n",
    "df_clients['start_year']=df_clients['start_date'].apply(lambda x: x.year)\n",
    "df_clients['last_year']=df_clients['last_date'].apply(lambda x: x.year)\n",
    "df_clients.head()"
   ]
  },
  {
   "cell_type": "markdown",
   "id": "7706322a-08b3-4630-84f1-68580f366149",
   "metadata": {},
   "source": [
    "### Показатели удержания по годам"
   ]
  },
  {
   "cell_type": "code",
   "execution_count": null,
   "id": "3ee52535-3509-4e43-ab2b-45f81eefa82e",
   "metadata": {},
   "outputs": [],
   "source": [
    "ya=df_clients['start_year'].unique()\n",
    "ya.sort()\n",
    "\n",
    "all_r=[]\n",
    "for i in range(0,len(ya)):\n",
    "    start=len(df_clients[(df_clients['start_year']==ya[i])])\n",
    "    t=[0 for x in range(i)]\n",
    "    for j in range(i,len(ya)):\n",
    "        t.append(round(len(df_clients[(df_clients['start_year']==ya[i]) & (df_clients['last_year']>=ya[j])])/start,2))\n",
    "    all_r.append(t)\n",
    "data=pd.DataFrame(all_r, columns=ya, index=ya)\n",
    "data[data==0]=np.nan\n",
    "\n",
    "plt.figure(figsize = (4,4))\n",
    "plt.title('Когортный анализ: удердание')\n",
    "sns.heatmap(data = data, \n",
    "            annot = True, \n",
    "            fmt = '.0%', \n",
    "            vmin = 0.0,\n",
    "            vmax = 0.8,\n",
    "            cmap = \"YlGnBu\")\n",
    "plt.show()"
   ]
  },
  {
   "cell_type": "code",
   "execution_count": null,
   "id": "9d9b8cc4-d21b-42d1-829b-15d63cebe966",
   "metadata": {},
   "outputs": [],
   "source": [
    "data"
   ]
  },
  {
   "cell_type": "markdown",
   "id": "7400dd83-986f-46cd-bb64-37b3b5e5394e",
   "metadata": {},
   "source": [
    "### Когрты количество клиентов по годам"
   ]
  },
  {
   "cell_type": "code",
   "execution_count": null,
   "id": "d15f68d0-644d-4baf-81bd-f64f564b23f3",
   "metadata": {},
   "outputs": [],
   "source": [
    "all_r=[]\n",
    "for i in range(0,len(ya)-1):\n",
    "    t=[0 for x in range(i)]\n",
    "    for j in range(i,len(ya)):\n",
    "        t.append(len(df_clients[(df_clients['start_year']==ya[i]) & (df_clients['last_year']>=ya[j])]))\n",
    "    all_r.append(t)\n",
    "data=pd.DataFrame(all_r, columns=ya, index=ya[:-1])\n",
    "data[data==0]=np.nan\n",
    "\n",
    "plt.figure(figsize = (5,5))\n",
    "plt.title('Когортный анализ: количество клиентов')\n",
    "sns.heatmap(data = data, \n",
    "            annot = True, \n",
    "            fmt = '.0', \n",
    "            vmin = 0.0,\n",
    "            vmax = 0.8,\n",
    "            cmap = \"YlGnBu\")\n",
    "plt.show()"
   ]
  },
  {
   "cell_type": "code",
   "execution_count": null,
   "id": "8594f7be-6e2c-4f0d-ae91-05e4b1bf7026",
   "metadata": {},
   "outputs": [],
   "source": [
    "data"
   ]
  },
  {
   "cell_type": "markdown",
   "id": "a0af4509-a728-49b5-9ff1-010743e0c391",
   "metadata": {},
   "source": [
    "### Когорты по кварталам. Удержание"
   ]
  },
  {
   "cell_type": "code",
   "execution_count": null,
   "id": "524ee83d-0d96-4d70-85a8-7a2bde2d2cef",
   "metadata": {},
   "outputs": [],
   "source": [
    "df_clients['MinPurchaseQuarter'] = df_clients['start_date'].map(lambda date: 10*date.year + date.quarter)\n",
    "df_clients['MaxPurchaseQuarter'] = df_clients['last_date'].map(lambda date: 10*date.year + date.quarter)\n",
    "\n",
    "my_all=[]\n",
    "min_y=df_clients['start_year'].min()\n",
    "max_y=df_clients['last_year'].max()\n",
    "max_date=df_clients['MaxPurchaseQuarter'].max()\n",
    "for y in range(min_y, max_y+1):\n",
    "    for m in range(1,5):\n",
    "        nl=y*10+m\n",
    "        if nl>max_date: break\n",
    "        my_all.append(nl)\n",
    "        \n",
    "all_r=[]\n",
    "for i in range(len(my_all)):\n",
    "    start=len(df_clients[(df_clients['MinPurchaseQuarter']==my_all[i])])\n",
    "    if start==0: start=1\n",
    "    t=[0 for x in range(i)]\n",
    "    for j in range(i,len(my_all)):\n",
    "        t.append(round(len(df_clients[(df_clients['MinPurchaseQuarter']==my_all[i]) & \n",
    "                                   (df_clients['MaxPurchaseQuarter']>=my_all[j])])/start,2))\n",
    "    all_r.append(t)\n",
    "data=pd.DataFrame(all_r, columns=my_all, index=my_all)\n",
    "\n",
    "data[data==0]=np.nan\n",
    "\n",
    "plt.figure(figsize = (11,9))\n",
    "plt.title('Когорты: удержание по кварталам')\n",
    "sns.heatmap(data = data, \n",
    "            annot = True, \n",
    "            fmt = '.0%', \n",
    "            vmin = 0.0,\n",
    "            vmax = 0.8,\n",
    "            cmap = \"YlGnBu\")\n",
    "plt.show()"
   ]
  },
  {
   "cell_type": "markdown",
   "id": "0e4e05af-ad9c-443c-a840-0eae7c896c44",
   "metadata": {},
   "source": [
    "### Когорты: количество клиентов по кварталам"
   ]
  },
  {
   "cell_type": "code",
   "execution_count": null,
   "id": "74af254b-eec9-43ae-a573-38324ecf1519",
   "metadata": {},
   "outputs": [],
   "source": [
    "all_r=[]\n",
    "for i in range(len(my_all)):\n",
    "    if start==0: start=1\n",
    "    t=[0 for x in range(i)]\n",
    "    for j in range(i,len(my_all)):\n",
    "        t.append(len(df_clients[(df_clients['MinPurchaseQuarter']==my_all[i]) & \n",
    "                                   (df_clients['MaxPurchaseQuarter']>=my_all[j])\n",
    "                                 ]))\n",
    "    all_r.append(t)\n",
    "data=pd.DataFrame(all_r, columns=my_all, index=my_all)\n",
    "\n",
    "data[data==0]=np.nan\n",
    "\n",
    "plt.figure(figsize = (11,9))\n",
    "plt.title('Когорный анализ: количество клиентов')\n",
    "sns.heatmap(data = data, \n",
    "            annot = True, \n",
    "            #fmt = '.0%', \n",
    "            vmin = 0.0,\n",
    "            vmax = 0.8,\n",
    "            cmap = \"YlGnBu\")\n",
    "plt.show()"
   ]
  },
  {
   "cell_type": "markdown",
   "id": "994a0951-17b6-4ac0-b582-cbe715afab2d",
   "metadata": {},
   "source": [
    "### Когорты: выручка по кварталам"
   ]
  },
  {
   "cell_type": "code",
   "execution_count": null,
   "id": "f0db24aa-e88a-4a0f-b0dc-9ba4b36a2cf0",
   "metadata": {},
   "outputs": [],
   "source": [
    "all_r=[]\n",
    "for i in range(len(my_all)):\n",
    "    if start==0: start=1\n",
    "    t=[0 for x in range(i)]\n",
    "    for j in range(i,len(my_all)):\n",
    "        t.append(df[df['Name'].isin(df_clients[(df_clients['MinPurchaseQuarter']==my_all[i]) & \n",
    "                                   (df_clients['MaxPurchaseQuarter']>=my_all[j])]['Name'])]['Revenue'].sum())\n",
    "    all_r.append(t)\n",
    "data=pd.DataFrame(all_r, columns=my_all, index=my_all)\n",
    "\n",
    "data[data==0]=np.nan\n",
    "\n",
    "plt.figure(figsize = (11,9))\n",
    "plt.title('Когорный анализ: выручка')\n",
    "sns.heatmap(data = data, \n",
    "            annot = True, \n",
    "            #fmt = '.0%', \n",
    "            vmin = 0.0,\n",
    "            vmax = 0.8,\n",
    "            cmap = \"YlGnBu\")\n",
    "plt.show()"
   ]
  },
  {
   "cell_type": "code",
   "execution_count": null,
   "id": "20a9481e-0c72-47cc-bb26-564a929e44fe",
   "metadata": {},
   "outputs": [],
   "source": [
    "data"
   ]
  },
  {
   "cell_type": "code",
   "execution_count": null,
   "id": "0c57fbb3-c707-438c-8a22-399eda831d25",
   "metadata": {},
   "outputs": [],
   "source": [
    "#подготовим данные и переменные для следующих анализов\n",
    "maxDate=df_clients['last_date'].max()\n",
    "df_clients['Days_long']=df_clients.apply(lambda x: (x['last_date']-x['start_date']).days, axis=1)"
   ]
  },
  {
   "cell_type": "markdown",
   "id": "6a5f099d-76a9-4137-9086-8f304c5ffb50",
   "metadata": {},
   "source": [
    "# RFM\n",
    "\n",
    "RFM аббревиатура (англ. Recency Frequency Monetary — давность, частота, деньги) — сегментация клиентов в анализе сбыта по лояльности.\n",
    "\n",
    "Определяет три группы:\n",
    "\n",
    "- Recency (давность) — давность сделки, чем меньше времени прошло с момента последней активности клиента, тем больше вероятность, что он повторит действие\n",
    "- Frequency (частота) — количество сделок, чем больше каких-либо действий совершит клиент, тем больше вероятность того, что он его повторит в будущем\n",
    "- Monetary (деньги) — сумма сделок, чем больше денег было потрачено, тем больше вероятность того, что он сделает заказ\n",
    "\n",
    "Сегментируем нашу базу."
   ]
  },
  {
   "cell_type": "code",
   "execution_count": null,
   "id": "f40dbea8-91cd-4d39-950b-0ddaf821908f",
   "metadata": {},
   "outputs": [],
   "source": [
    "df_RFM=df_clients[['Total_sale', 'Revenue']].copy()\n",
    "df_RFM['Recency']=df_clients['last_date'].apply(lambda x: (maxDate-x).days)\n",
    "df_RFM.columns=['Frequency', 'Monetary', 'Recency']\n",
    "df_RFM = df_RFM.sort_values('Monetary', ascending=False)\n",
    "df_RFM.head()"
   ]
  },
  {
   "cell_type": "code",
   "execution_count": null,
   "id": "f39ba983-2009-42ab-b95f-83a58547af9a",
   "metadata": {},
   "outputs": [],
   "source": [
    "df_RFM['Frequency'].value_counts()"
   ]
  },
  {
   "cell_type": "code",
   "execution_count": null,
   "id": "2da0b502-5d76-4258-b9af-dcbf5f7cbadb",
   "metadata": {},
   "outputs": [],
   "source": [
    "df_RFM['R'] = pd.qcut(df_RFM['Recency'].rank(method='first'), 5, [5,4,3,2,1])\n",
    "df_RFM['F'] = pd.qcut(df_RFM['Frequency'].rank(method='first'), 5, [1,2,3,4,5])\n",
    "df_RFM['M'] = pd.qcut(df_RFM['Monetary'].rank(method='first'), 5, [1,2,3,4,5])\n",
    "\n",
    "df_RFM['RFM Score'] = np.array(df_RFM['R'].map(str)) + np.array(df_RFM['F'].map(str)) + np.array(df_RFM['M'].map(str))\n",
    "df_RFM.head()"
   ]
  },
  {
   "cell_type": "code",
   "execution_count": null,
   "id": "8eae8f81-ecf3-4af2-9419-64adf158ed55",
   "metadata": {},
   "outputs": [],
   "source": [
    "segt_map = {\n",
    "    r'[1-2][1-2]': 'потерянные',\n",
    "    r'[1-2][3-4]': 'риск потерять',\n",
    "    r'[1-2]5': 'не терять',\n",
    "    r'3[1-2]': 'спящие',\n",
    "    r'33': 'нужно внимание',\n",
    "    r'[3-4][4-5]': 'лояльные',\n",
    "    r'41': 'многообещающие',\n",
    "    r'51': 'новые',\n",
    "    r'[4-5][2-3]': 'потенциально лояльные',\n",
    "    r'5[4-5]': 'чемпионы'\n",
    "}\n",
    "\n",
    "df_RFM['Segment'] = np.array(df_RFM['R'].map(str)) + np.array(df_RFM['F'].map(str))\n",
    "df_RFM['Segment'] = df_RFM['Segment'].replace(segt_map, regex=True)\n",
    "df_RFM.sample(10)"
   ]
  },
  {
   "cell_type": "code",
   "execution_count": null,
   "id": "5a160cc6-c993-4ade-81a2-7b27edaafc2d",
   "metadata": {},
   "outputs": [],
   "source": [
    "df_RFM[df_RFM['Segment']=='нужно внимание'] #!!! Изменяйте параметр фильтра"
   ]
  },
  {
   "cell_type": "code",
   "execution_count": null,
   "id": "6371d01c-8778-41f8-88d9-01138ef8244e",
   "metadata": {},
   "outputs": [],
   "source": [
    "segments_counts = df_RFM['Segment'].value_counts().sort_values(ascending=True)\n",
    "\n",
    "fig, ax = plt.subplots()\n",
    "\n",
    "bars = ax.barh(range(len(segments_counts)),\n",
    "              segments_counts,\n",
    "              color='silver')\n",
    "ax.set_frame_on(False)\n",
    "ax.tick_params(left=False,\n",
    "               bottom=False,\n",
    "               labelbottom=False)\n",
    "ax.set_yticks(range(len(segments_counts)))\n",
    "ax.set_yticklabels(segments_counts.index)\n",
    "\n",
    "for i, bar in enumerate(bars):\n",
    "        value = bar.get_width()\n",
    "        if segments_counts.index[i] in ['чемпионы', 'лояльные']:\n",
    "            bar.set_color('firebrick')\n",
    "        ax.text(value,\n",
    "                bar.get_y() + bar.get_height()/2,\n",
    "                '{:,} ({:}%)'.format(int(value),\n",
    "                                   int(value*100/segments_counts.sum())),\n",
    "                va='center',\n",
    "                ha='left'\n",
    "               )\n",
    "\n",
    "plt.show()"
   ]
  },
  {
   "cell_type": "markdown",
   "id": "e8092275-9cf7-4d0f-ac39-d0e46344cc8e",
   "metadata": {},
   "source": [
    "# Кластеризация\n",
    "\n",
    "Кластерный анализ — многомерная статистическая процедура, выполняющая сбор данных, содержащих информацию о выборке объектов, и затем упорядочивающая объекты в сравнительно однородные группы. Задача кластеризации относится к статистической обработке, а также к широкому классу задач обучения без учителя."
   ]
  },
  {
   "cell_type": "code",
   "execution_count": null,
   "id": "9523328f-5184-4dcf-a254-100e3bef88c7",
   "metadata": {},
   "outputs": [],
   "source": [
    "df_clients['ProfitPct']=df_clients['Profit']/df_clients['Revenue']\n",
    "df_clients.sample()"
   ]
  },
  {
   "cell_type": "markdown",
   "id": "49de8059-c703-4d99-8260-364b3c556a34",
   "metadata": {},
   "source": [
    "Ниже указываем на основе каких данных будет выполнять кластеризацию. ***Список столбцов можете изменять! Количество может быть произвольным***"
   ]
  },
  {
   "cell_type": "code",
   "execution_count": null,
   "id": "f11207fe-1d8c-435c-960f-aadfcbf23324",
   "metadata": {},
   "outputs": [],
   "source": [
    "data_for_clust=df_clients[['Revenue', 'ProfitPct', 'Total_sale', 'Days_long']].copy()\n",
    "data_for_clust.fillna(0, inplace=True)"
   ]
  },
  {
   "cell_type": "code",
   "execution_count": null,
   "id": "3e5a92c7-d6c5-4ddd-9473-d0004c8d2af0",
   "metadata": {},
   "outputs": [],
   "source": [
    "from sklearn import preprocessing\n",
    "from scipy.spatial.distance import pdist\n",
    "from scipy.cluster.hierarchy import *\n",
    "from matplotlib import rc\n",
    "from sklearn.cluster import KMeans\n",
    "\n",
    "dataNorm = preprocessing.normalize(data_for_clust) #нормализация данных"
   ]
  },
  {
   "cell_type": "code",
   "execution_count": null,
   "id": "76bd3efa-8637-43d5-9904-7605d000090b",
   "metadata": {},
   "outputs": [],
   "source": [
    "# Метод локтя. Позволячет оценить оптимальное количество сегментов.\n",
    "# Показывает сумму внутри групповых вариаций\n",
    "\n",
    "data_dist = pdist(dataNorm, 'euclidean')\n",
    "data_linkage = linkage(data_dist, method='average')\n",
    "\n",
    "last = data_linkage[-10:, 2]\n",
    "last_rev = last[::-1]\n",
    "idxs = np.arange(1, len(last) + 1)\n",
    "plt.plot(idxs, last_rev)\n",
    "\n",
    "acceleration = np.diff(last, 2)  \n",
    "acceleration_rev = acceleration[::-1]\n",
    "plt.plot(idxs[:-2] + 1, acceleration_rev)\n",
    "plt.show()\n",
    "k = acceleration_rev.argmax() + 2 \n",
    "print(\"рекомендовано кластеров:\", k)"
   ]
  },
  {
   "cell_type": "markdown",
   "id": "19241b1a-3f63-4137-bb8b-4e778fa7af92",
   "metadata": {},
   "source": [
    "`n_clusters` - параметр, который указвает на какое количество кластеров делить выборку."
   ]
  },
  {
   "cell_type": "code",
   "execution_count": null,
   "id": "f367ae93-e5ce-4751-ad01-7646ee0a76cd",
   "metadata": {},
   "outputs": [],
   "source": [
    "km_m = KMeans(n_clusters=8, random_state=46).fit(dataNorm) ### !!! Изменяйте количество кластеров\n",
    "data_for_clust['group_no']=km_m.labels_+1"
   ]
  },
  {
   "cell_type": "code",
   "execution_count": null,
   "id": "a44ec8f5-c83d-4e39-bcbc-17365c8f8265",
   "metadata": {},
   "outputs": [],
   "source": [
    "# основные статистики по нашим кластерам\n",
    "df_clust=data_for_clust.groupby('group_no').median()\n",
    "df_clust['Count']=data_for_clust.groupby('group_no')['group_no'].count()\n",
    "df_clust"
   ]
  },
  {
   "cell_type": "markdown",
   "id": "e4c86205-ee2a-4117-ab81-471c47ed8ac9",
   "metadata": {},
   "source": [
    "# Пожизненная ценность клиента\n",
    "\n",
    "На основе анализа кластеров выполним оценку пожизненной ценности клиентов из каждого кластера.\n",
    "\n",
    "Найдем коэффициенты удержания клиентов каждого кластера по годам."
   ]
  },
  {
   "cell_type": "code",
   "execution_count": null,
   "id": "8dc070ed-7916-452b-8118-492b8786f641",
   "metadata": {},
   "outputs": [],
   "source": [
    "df_clients['group_no']=km_m.labels_+1\n",
    "\n",
    "ya=df_clients['start_year'].unique()\n",
    "ya.sort()\n",
    "churn={}\n",
    "for gr in df_clients['group_no'].unique():\n",
    "    churn[gr]={}\n",
    "    for y in range(1, len(ya)):\n",
    "        try:\n",
    "            churn[gr][ya[y]]=round(len(df_clients[(df_clients['last_year']>=ya[y]) \n",
    "                                            & (df_clients['group_no']==gr) &\n",
    "                                                (df_clients['start_year']<ya[y])])/len(\n",
    "                df_clients[(df_clients['start_year']<ya[y]) & ((df_clients['group_no']==gr))]),2)\n",
    "        except:\n",
    "            churn[gr][ya[y]]=0\n",
    "            \n",
    "df_churn=pd.DataFrame.from_dict(churn, orient='index')\n",
    "df_churn"
   ]
  },
  {
   "cell_type": "markdown",
   "id": "ae0641cb-3d37-4c14-8c2d-2824265970d8",
   "metadata": {},
   "source": [
    "Чаще всего, коэффициенты удержания достаточно стабильны по сегментам. Если не происходит катострофы. И это один из важнейших показателей маркетинга/продаж на стагнирующем и тем более падающем рынке. К тому же, этот коэффициент позволяет оценить пожизненную ценность клиента для компании, те наиболее вероятный доход среднего клиента из сегмента. Рассчитывается по формуле:\n",
    "\n",
    "**CLV=m*(r/(1+i-r))**\n",
    "\n",
    "Где,\n",
    "\n",
    "CLV (Customer Livetime Value) пожизнеснная ценность клиента\n",
    "- m средняя маржинальная прибыль на клиента в год\n",
    "- r коэффициент удержания для сегмента\n",
    "- i ставка дисконтирования. Равна стоимости денег для компании плюс воспринимаемый риск. Учитывается так как считаем доход от клиента на горизонте более года. В нашем случае, пример равной 20%."
   ]
  },
  {
   "cell_type": "code",
   "execution_count": null,
   "id": "f77a5d8f-0de6-4faf-87a5-cd2b2c97cd32",
   "metadata": {},
   "outputs": [],
   "source": [
    "discount=0.2 # !!! Можно изменять ставку дисконтирования\n",
    "CLV={}\n",
    "for gr in df_churn.index:\n",
    "    CLV[gr]={}\n",
    "    for y in df_churn.columns:\n",
    "        CLV[gr][y]=round(df_clients[df_clients['group_no']==gr]['Profit'].median()*df_churn.loc[gr, y]/(1-discount+df_churn.loc[gr, y]),2)\n",
    "df_CLV=pd.DataFrame.from_dict(CLV, orient='index')\n",
    "df_CLV"
   ]
  },
  {
   "cell_type": "code",
   "execution_count": null,
   "id": "12a1780a-62bb-4111-bcec-42a3ef71f555",
   "metadata": {},
   "outputs": [],
   "source": [
    "df_CLV.plot.bar(figsize=(14,4), title='CLV по годам в рамках каждого кластера');"
   ]
  },
  {
   "cell_type": "markdown",
   "id": "3a99e08c-e859-4bb3-b8fd-e04a01966e57",
   "metadata": {},
   "source": [
    "# Предсказание оттока\n",
    "\n",
    "Решим классическую задачу с попыткой предсказать вернется ли к нам клиент за следующей покупкой. Для решения задачи классификации используем алгоритм RandomForest.\n",
    "\n",
    "Подготовим данные. Рассчитаем среднее количество дней между покупками клиентов (у кого было больше трех покупок)."
   ]
  },
  {
   "cell_type": "code",
   "execution_count": null,
   "id": "8c5e0750-ba8a-447d-b9f1-d04a210b4996",
   "metadata": {},
   "outputs": [],
   "source": [
    "df_clients['DaysB']=df_clients[df_clients['Total_sale']>3]['Days_long']/df_clients[df_clients['Total_sale']>3]['Total_sale']\n",
    "df_clients.describe()"
   ]
  },
  {
   "cell_type": "code",
   "execution_count": null,
   "id": "dd3dccd9-4e05-4ead-ac65-3f81390be54b",
   "metadata": {},
   "outputs": [],
   "source": [
    "df_clients['DaysB'].hist(bins=100, figsize=(18,4));"
   ]
  },
  {
   "cell_type": "code",
   "execution_count": null,
   "id": "9ac1d3d1-d35f-4cb6-a31b-66c221e00209",
   "metadata": {},
   "outputs": [],
   "source": [
    "df_clients.loc[df_clients['Total_sale']<=3, 'DaysB']=25 #!!! Можно изменять! Тем у кого не было покупки устанавливаем интервал принудительно \n",
    "\n",
    "#Churn_day - дата, после которой считаем клиента потерянным\n",
    "for i in df_clients.index:\n",
    "    df_clients.loc[i, 'Churn_day']=df_clients.loc[i, 'last_date']+pd.Timedelta(\"P%sDT0H0M0.000000\" % (round(df_clients.loc[i, 'DaysB']*2,0)))\n",
    "try:\n",
    "    df.drop(columns=['Churn_day', 'last_date'], inplace=True)\n",
    "except:\n",
    "    pass\n",
    "    \n",
    "df=df.merge(df_clients[['Churn_day','last_date', 'Name']], left_on='Name', right_on='Name')\n",
    "\n",
    "df.sample(2)"
   ]
  },
  {
   "cell_type": "markdown",
   "id": "00450aa4-c30a-4faa-8b77-e8105df6d985",
   "metadata": {},
   "source": [
    "Проставим признак `Next` - будет ли следующая покупка. Где 1- покупка будет."
   ]
  },
  {
   "cell_type": "code",
   "execution_count": null,
   "id": "f63b2fba-ce09-4f55-a692-72092d4caddf",
   "metadata": {},
   "outputs": [],
   "source": [
    "df['Next']=df.apply(lambda x: 1 if x['Date'] < x['last_date'] else 0, axis=1)\n",
    "df['Next']=df.apply(lambda x: 0 if (x['Churn_day']<maxDate) and (x['Next']==0) else 1, axis=1)\n",
    "df.describe()"
   ]
  },
  {
   "cell_type": "markdown",
   "id": "50a5dcc2-9e4c-4633-ba76-26ec2d522d2a",
   "metadata": {},
   "source": [
    "***Продолжительная операция***\n",
    "\n",
    "Создадим еще три параметра:\n",
    "- SumCum накопленная сумма покупок\n",
    "- CountCum количество предыдущих покупок\n",
    "- FirstY год первой покупки"
   ]
  },
  {
   "cell_type": "code",
   "execution_count": null,
   "id": "179d77e4-c7a1-46d4-bfec-2e4d47dff2d0",
   "metadata": {},
   "outputs": [],
   "source": [
    "from tqdm.notebook import tqdm\n",
    "\n",
    "df.sort_values(by='Date', inplace=True)\n",
    "df['SumCum']=0\n",
    "df['CountCum']=0\n",
    "df['FirstY']=0\n",
    "for n in tqdm(df['Name'].unique()):\n",
    "    for d in df[df['Name']==n].index:\n",
    "        df.loc[d, 'SumCum']=df[(df['Name']==n) & (df['Date']<df.loc[d, 'Date'])]['Revenue'].sum()\n",
    "        df.loc[d, 'CountCum']=df[(df['Name']==n) & (df['Date']<df.loc[d, 'Date'])]['Revenue'].count()\n",
    "        df.loc[d, 'FirstY']=df[df['Name']==n]['Date'].min().year"
   ]
  },
  {
   "cell_type": "code",
   "execution_count": null,
   "id": "a51aaf8d-be92-4ff1-94ae-ed3aed84a49b",
   "metadata": {},
   "outputs": [],
   "source": [
    "df.corr()"
   ]
  },
  {
   "cell_type": "code",
   "execution_count": null,
   "id": "7183aa78-360b-4f21-ac9f-6aa4af3a5e09",
   "metadata": {},
   "outputs": [],
   "source": [
    "corr = df.corr()\n",
    "plt.figure(figsize=(14, 14))\n",
    "sns.heatmap(corr[(corr >= 0.3) | (corr <= -0.3)],\n",
    "            cmap=\"RdBu_r\", vmax=1.0, vmin=-1.0, linewidths=0.1,\n",
    "            annot=True, annot_kws={\"size\": 8}, square=True);"
   ]
  },
  {
   "cell_type": "code",
   "execution_count": null,
   "id": "cabe35fc-e955-4462-af30-0223dbb0c994",
   "metadata": {},
   "outputs": [],
   "source": [
    "plt.figure(figsize=(6, 10))\n",
    "sns.scatterplot(data=df, x='SumCum', y='CountCum', hue='Next');"
   ]
  },
  {
   "cell_type": "code",
   "execution_count": null,
   "id": "01c60238-bcd5-475d-aa5d-01a39e476e4b",
   "metadata": {},
   "outputs": [],
   "source": [
    "# продолжительная операция!!!\n",
    "sns.pairplot(df,height=3, hue='Next', diag_kind='kde');"
   ]
  },
  {
   "cell_type": "code",
   "execution_count": null,
   "id": "87b75f83-5ec2-4bff-9c5b-5c461de9de21",
   "metadata": {},
   "outputs": [],
   "source": [
    "df.columns"
   ]
  },
  {
   "cell_type": "code",
   "execution_count": null,
   "id": "3e6313fd-d371-43ff-940c-1b2d10428366",
   "metadata": {},
   "outputs": [],
   "source": [
    "col=['Revenue', 'SumCum', 'CountCum', 'FirstY'] #!!! можно менять названия столбцов для модели!"
   ]
  },
  {
   "cell_type": "code",
   "execution_count": null,
   "id": "096bc8fe-59b3-44d8-910d-86dd18876a1f",
   "metadata": {},
   "outputs": [],
   "source": [
    "# импортируем библиотеки\n",
    "from sklearn.ensemble import RandomForestClassifier\n",
    "from sklearn.metrics import r2_score\n",
    "\n",
    "#обучим модель\n",
    "model = RandomForestClassifier(n_estimators=5)\n",
    "model.fit(df[col], df.Next)"
   ]
  },
  {
   "cell_type": "code",
   "execution_count": null,
   "id": "50db3230-b618-45bd-a419-5954dd7abe9c",
   "metadata": {},
   "outputs": [],
   "source": [
    "# точность модели\n",
    "r2_score(model.predict(df[col]), df.Next)"
   ]
  },
  {
   "cell_type": "code",
   "execution_count": null,
   "id": "3fdc0203-23c6-4106-9cd8-861e12762c5d",
   "metadata": {},
   "outputs": [],
   "source": [
    "importances = model.feature_importances_\n",
    "indices = np.argsort(importances)[::-1]\n",
    "\n",
    "ar_f=[]\n",
    "for f, idx in enumerate(indices):\n",
    "    ar_f.append([round(importances[idx],4), col[idx]])\n",
    "print(\"Значимость признака:\")\n",
    "ar_f.sort(reverse=True)\n",
    "ar_f"
   ]
  },
  {
   "cell_type": "code",
   "execution_count": null,
   "id": "39be822f-6937-420c-959c-3619a16c2587",
   "metadata": {},
   "outputs": [],
   "source": [
    "#удобнее отобразить на столбчатой диаграмме\n",
    "d_first = len(col)\n",
    "plt.figure(figsize=(8, 8))\n",
    "plt.title(\"Значимость признака\")\n",
    "plt.bar(range(d_first), importances[indices[:d_first]], align='center')\n",
    "plt.xticks(range(d_first), np.array(col)[indices[:d_first]], rotation=90)\n",
    "plt.xlim([-1, d_first]);"
   ]
  },
  {
   "cell_type": "markdown",
   "id": "d4be5152-585c-4288-862d-a97a850d26f9",
   "metadata": {},
   "source": [
    "Другие метрики точности."
   ]
  },
  {
   "cell_type": "code",
   "execution_count": null,
   "id": "6ec5b276-e259-46b3-9ddb-4d20b4afe97c",
   "metadata": {},
   "outputs": [],
   "source": [
    "from sklearn.metrics import classification_report, confusion_matrix\n",
    "conf_mat = confusion_matrix(df.Next, model.predict(df[col]))\n",
    "ax = sns.heatmap(conf_mat, annot=True, fmt='g');\n",
    "ax.set_xlabel('Предсказанные значения')\n",
    "ax.set_ylabel('Актуальные значения');"
   ]
  },
  {
   "cell_type": "code",
   "execution_count": null,
   "id": "355f15c7-28bb-483a-9c4c-bb833d98ac75",
   "metadata": {},
   "outputs": [],
   "source": [
    "print(classification_report(df.Next, model.predict(df[col])))"
   ]
  },
  {
   "cell_type": "code",
   "execution_count": null,
   "id": "8a1f1e13-8f92-40dc-9045-143feb00d69e",
   "metadata": {},
   "outputs": [],
   "source": []
  }
 ],
 "metadata": {
  "kernelspec": {
   "display_name": "Python 3 (ipykernel)",
   "language": "python",
   "name": "python3"
  },
  "language_info": {
   "codemirror_mode": {
    "name": "ipython",
    "version": 3
   },
   "file_extension": ".py",
   "mimetype": "text/x-python",
   "name": "python",
   "nbconvert_exporter": "python",
   "pygments_lexer": "ipython3",
   "version": "3.8.10"
  }
 },
 "nbformat": 4,
 "nbformat_minor": 5
}
